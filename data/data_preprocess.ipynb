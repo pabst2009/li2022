{
 "cells": [
  {
   "cell_type": "code",
   "execution_count": 1,
   "metadata": {},
   "outputs": [],
   "source": [
    "import os\n",
    "import sys\n",
    "sys.path.insert(0, os.path.abspath(\"../\"))\n",
    "import pandas\n",
    "import numpy as np\n",
    "import torch\n",
    "from pathlib import Path\n",
    "import t4c22\n",
    "from t4c22.misc.t4c22_logging import t4c_apply_basic_logging_config\n",
    "from t4c22.t4c22_config import load_basedir\n",
    "from t4c22.misc.parquet_helpers import load_df_from_parquet\n",
    "from tqdm import tqdm\n",
    "t4c_apply_basic_logging_config(loglevel=\"DEBUG\")\n",
    "# Load BASEDIR from file, change to your data root.\n",
    "BASEDIR = load_basedir(fn=\"t4c22_config.json\", pkg=t4c22)"
   ]
  },
  {
   "cell_type": "code",
   "execution_count": 4,
   "metadata": {},
   "outputs": [
    {
     "name": "stdout",
     "output_type": "stream",
     "text": [
      "../t4c22/data/\n"
     ]
    },
    {
     "ename": "TypeError",
     "evalue": "unsupported operand type(s) for /: 'str' and 'str'",
     "output_type": "error",
     "traceback": [
      "\u001b[0;31m---------------------------------------------------------------------------\u001b[0m",
      "\u001b[0;31mTypeError\u001b[0m                                 Traceback (most recent call last)",
      "Cell \u001b[0;32mIn[4], line 38\u001b[0m\n\u001b[1;32m     36\u001b[0m     df_edge\u001b[38;5;241m.\u001b[39mto_parquet(BASEDIR\u001b[38;5;241m/\u001b[39m\u001b[38;5;124m'\u001b[39m\u001b[38;5;124mroad_graph\u001b[39m\u001b[38;5;124m'\u001b[39m\u001b[38;5;241m/\u001b[39mcity\u001b[38;5;241m/\u001b[39m\u001b[38;5;124m'\u001b[39m\u001b[38;5;124mroad_graph_edges.parquet\u001b[39m\u001b[38;5;124m'\u001b[39m,compression\u001b[38;5;241m=\u001b[39m\u001b[38;5;124m'\u001b[39m\u001b[38;5;124msnappy\u001b[39m\u001b[38;5;124m'\u001b[39m)\n\u001b[1;32m     37\u001b[0m \u001b[38;5;28;01mfor\u001b[39;00m city \u001b[38;5;129;01min\u001b[39;00m [\u001b[38;5;124m\"\u001b[39m\u001b[38;5;124mlondon\u001b[39m\u001b[38;5;124m\"\u001b[39m,\u001b[38;5;124m\"\u001b[39m\u001b[38;5;124mmadrid\u001b[39m\u001b[38;5;124m\"\u001b[39m,\u001b[38;5;124m\"\u001b[39m\u001b[38;5;124mmelbourne\u001b[39m\u001b[38;5;124m\"\u001b[39m]:\n\u001b[0;32m---> 38\u001b[0m     \u001b[43mtrans_edge_attr\u001b[49m\u001b[43m(\u001b[49m\u001b[43mcity\u001b[49m\u001b[43m)\u001b[49m\n",
      "Cell \u001b[0;32mIn[4], line 31\u001b[0m, in \u001b[0;36mtrans_edge_attr\u001b[0;34m(city)\u001b[0m\n\u001b[1;32m     29\u001b[0m BASEDIR\u001b[38;5;241m=\u001b[39m\u001b[38;5;124m'\u001b[39m\u001b[38;5;124m../t4c22/data/\u001b[39m\u001b[38;5;124m'\u001b[39m\n\u001b[1;32m     30\u001b[0m \u001b[38;5;28mprint\u001b[39m(BASEDIR)\n\u001b[0;32m---> 31\u001b[0m df_edge \u001b[38;5;241m=\u001b[39m load_df_from_parquet(\u001b[43mBASEDIR\u001b[49m\u001b[38;5;241;43m/\u001b[39;49m\u001b[38;5;124;43m'\u001b[39;49m\u001b[38;5;124;43mroad_graph\u001b[39;49m\u001b[38;5;124;43m'\u001b[39;49m\u001b[38;5;241m/\u001b[39mcity\u001b[38;5;241m/\u001b[39m\u001b[38;5;124m'\u001b[39m\u001b[38;5;124mroad_graph_edges.parquet\u001b[39m\u001b[38;5;124m'\u001b[39m)\n\u001b[1;32m     32\u001b[0m df_edge[\u001b[38;5;124m'\u001b[39m\u001b[38;5;124moneway\u001b[39m\u001b[38;5;124m'\u001b[39m] \u001b[38;5;241m=\u001b[39m df_edge[\u001b[38;5;124m'\u001b[39m\u001b[38;5;124moneway\u001b[39m\u001b[38;5;124m'\u001b[39m]\u001b[38;5;241m.\u001b[39mapply(\u001b[38;5;28;01mlambda\u001b[39;00m x: trans_oneway(x))\n\u001b[1;32m     33\u001b[0m df_edge[\u001b[38;5;124m'\u001b[39m\u001b[38;5;124mtunnel\u001b[39m\u001b[38;5;124m'\u001b[39m] \u001b[38;5;241m=\u001b[39m df_edge[\u001b[38;5;124m'\u001b[39m\u001b[38;5;124mtunnel\u001b[39m\u001b[38;5;124m'\u001b[39m]\u001b[38;5;241m.\u001b[39mapply(\u001b[38;5;28;01mlambda\u001b[39;00m x: trans_tunnel(x))\n",
      "\u001b[0;31mTypeError\u001b[0m: unsupported operand type(s) for /: 'str' and 'str'"
     ]
    }
   ],
   "source": [
    "def trans_tunnel(x):\n",
    "    if x == '':\n",
    "        return 0\n",
    "    else:\n",
    "        return 1\n",
    "def tran_counter_dis(x):\n",
    "    if x == 0:\n",
    "        x = 0.5\n",
    "    return 1/x\n",
    "def trans_lanes(x):\n",
    "    if x =='':\n",
    "        return 0\n",
    "    if isinstance (eval(x),int):\n",
    "        y =  int(x)\n",
    "    elif isinstance (eval(x),list):\n",
    "        y = int(max(eval(x)))\n",
    "    else:\n",
    "        y =  int(eval(x))\n",
    "    if y > 4:\n",
    "        return 4\n",
    "    else:\n",
    "        return y-1\n",
    "def trans_oneway(x):\n",
    "    if x == 'False':\n",
    "        return 0\n",
    "    else:\n",
    "        return 1\n",
    "def trans_edge_attr(city):\n",
    "    BASEDIR='../t4c22/data/'\n",
    "    print(BASEDIR)\n",
    "    df_edge = load_df_from_parquet(BASEDIR/'road_graph'/city/'road_graph_edges.parquet')\n",
    "    df_edge['oneway'] = df_edge['oneway'].apply(lambda x: trans_oneway(x))\n",
    "    df_edge['tunnel'] = df_edge['tunnel'].apply(lambda x: trans_tunnel(x))\n",
    "    df_edge['counter_distance'] = df_edge['counter_distance'].apply(lambda x: tran_counter_dis(x))\n",
    "    df_edge['lanes'] = df_edge['lanes'].apply(lambda x: trans_lanes(x))\n",
    "    df_edge.to_parquet(BASEDIR/'road_graph'/city/'road_graph_edges.parquet',compression='snappy')\n",
    "for city in [\"london\",\"madrid\",\"melbourne\"]:\n",
    "    trans_edge_attr(city)"
   ]
  },
  {
   "cell_type": "code",
   "execution_count": 3,
   "metadata": {},
   "outputs": [
    {
     "name": "stderr",
     "output_type": "stream",
     "text": [
      "0it [00:00, ?it/s]\n"
     ]
    },
    {
     "name": "stdout",
     "output_type": "stream",
     "text": [
      "free_flow_low:  0\n"
     ]
    },
    {
     "ename": "FileNotFoundError",
     "evalue": "[Errno 2] No such file or directory: '../../t4c22/data/road_graph/london/road_graph_edges.parquet'",
     "output_type": "error",
     "traceback": [
      "\u001b[0;31m---------------------------------------------------------------------------\u001b[0m",
      "\u001b[0;31mFileNotFoundError\u001b[0m                         Traceback (most recent call last)",
      "Cell \u001b[0;32mIn[3], line 21\u001b[0m\n\u001b[1;32m     19\u001b[0m     df_edge\u001b[38;5;241m.\u001b[39mto_parquet(BASEDIR\u001b[38;5;241m/\u001b[39m\u001b[38;5;124m'\u001b[39m\u001b[38;5;124mroad_graph\u001b[39m\u001b[38;5;124m'\u001b[39m\u001b[38;5;241m/\u001b[39mcity\u001b[38;5;241m/\u001b[39m\u001b[38;5;124m'\u001b[39m\u001b[38;5;124mroad_graph_edges.parquet\u001b[39m\u001b[38;5;124m'\u001b[39m, compression\u001b[38;5;241m=\u001b[39m\u001b[38;5;124m'\u001b[39m\u001b[38;5;124msnappy\u001b[39m\u001b[38;5;124m'\u001b[39m)\n\u001b[1;32m     20\u001b[0m \u001b[38;5;28;01mfor\u001b[39;00m city \u001b[38;5;129;01min\u001b[39;00m [\u001b[38;5;124m\"\u001b[39m\u001b[38;5;124mlondon\u001b[39m\u001b[38;5;124m\"\u001b[39m,\u001b[38;5;124m\"\u001b[39m\u001b[38;5;124mmadrid\u001b[39m\u001b[38;5;124m\"\u001b[39m,\u001b[38;5;124m\"\u001b[39m\u001b[38;5;124mmelbourne\u001b[39m\u001b[38;5;124m\"\u001b[39m]:\n\u001b[0;32m---> 21\u001b[0m     \u001b[43mget_edge_flow\u001b[49m\u001b[43m(\u001b[49m\u001b[43mcity\u001b[49m\u001b[43m)\u001b[49m\n",
      "Cell \u001b[0;32mIn[3], line 13\u001b[0m, in \u001b[0;36mget_edge_flow\u001b[0;34m(city)\u001b[0m\n\u001b[1;32m     11\u001b[0m         edge_free_flows_kph[(u, v)] \u001b[38;5;241m=\u001b[39m ff\n\u001b[1;32m     12\u001b[0m \u001b[38;5;28mprint\u001b[39m(\u001b[38;5;124m\"\u001b[39m\u001b[38;5;124mfree_flow_low: \u001b[39m\u001b[38;5;124m\"\u001b[39m,\u001b[38;5;28mlen\u001b[39m(free_flow_low))\n\u001b[0;32m---> 13\u001b[0m df_edge \u001b[38;5;241m=\u001b[39m \u001b[43mpandas\u001b[49m\u001b[38;5;241;43m.\u001b[39;49m\u001b[43mread_parquet\u001b[49m\u001b[43m(\u001b[49m\u001b[43mBASEDIR\u001b[49m\u001b[38;5;241;43m/\u001b[39;49m\u001b[38;5;124;43m'\u001b[39;49m\u001b[38;5;124;43mroad_graph\u001b[39;49m\u001b[38;5;124;43m'\u001b[39;49m\u001b[38;5;241;43m/\u001b[39;49m\u001b[43mcity\u001b[49m\u001b[38;5;241;43m/\u001b[39;49m\u001b[38;5;124;43m'\u001b[39;49m\u001b[38;5;124;43mroad_graph_edges.parquet\u001b[39;49m\u001b[38;5;124;43m'\u001b[39;49m\u001b[43m)\u001b[49m\n\u001b[1;32m     15\u001b[0m df_edge[\u001b[38;5;124m'\u001b[39m\u001b[38;5;124mflow\u001b[39m\u001b[38;5;124m'\u001b[39m] \u001b[38;5;241m=\u001b[39m df_edge[\u001b[38;5;124m'\u001b[39m\u001b[38;5;124mparsed_maxspeed\u001b[39m\u001b[38;5;124m'\u001b[39m]\n\u001b[1;32m     16\u001b[0m \u001b[38;5;28;01mfor\u001b[39;00m uv,f \u001b[38;5;129;01min\u001b[39;00m tqdm(edge_free_flows_kph\u001b[38;5;241m.\u001b[39mitems()):\n",
      "File \u001b[0;32m~/.conda/envs/t4c22/lib/python3.10/site-packages/pandas/io/parquet.py:509\u001b[0m, in \u001b[0;36mread_parquet\u001b[0;34m(path, engine, columns, storage_options, use_nullable_dtypes, dtype_backend, **kwargs)\u001b[0m\n\u001b[1;32m    506\u001b[0m     use_nullable_dtypes \u001b[38;5;241m=\u001b[39m \u001b[38;5;28;01mFalse\u001b[39;00m\n\u001b[1;32m    507\u001b[0m check_dtype_backend(dtype_backend)\n\u001b[0;32m--> 509\u001b[0m \u001b[38;5;28;01mreturn\u001b[39;00m \u001b[43mimpl\u001b[49m\u001b[38;5;241;43m.\u001b[39;49m\u001b[43mread\u001b[49m\u001b[43m(\u001b[49m\n\u001b[1;32m    510\u001b[0m \u001b[43m    \u001b[49m\u001b[43mpath\u001b[49m\u001b[43m,\u001b[49m\n\u001b[1;32m    511\u001b[0m \u001b[43m    \u001b[49m\u001b[43mcolumns\u001b[49m\u001b[38;5;241;43m=\u001b[39;49m\u001b[43mcolumns\u001b[49m\u001b[43m,\u001b[49m\n\u001b[1;32m    512\u001b[0m \u001b[43m    \u001b[49m\u001b[43mstorage_options\u001b[49m\u001b[38;5;241;43m=\u001b[39;49m\u001b[43mstorage_options\u001b[49m\u001b[43m,\u001b[49m\n\u001b[1;32m    513\u001b[0m \u001b[43m    \u001b[49m\u001b[43muse_nullable_dtypes\u001b[49m\u001b[38;5;241;43m=\u001b[39;49m\u001b[43muse_nullable_dtypes\u001b[49m\u001b[43m,\u001b[49m\n\u001b[1;32m    514\u001b[0m \u001b[43m    \u001b[49m\u001b[43mdtype_backend\u001b[49m\u001b[38;5;241;43m=\u001b[39;49m\u001b[43mdtype_backend\u001b[49m\u001b[43m,\u001b[49m\n\u001b[1;32m    515\u001b[0m \u001b[43m    \u001b[49m\u001b[38;5;241;43m*\u001b[39;49m\u001b[38;5;241;43m*\u001b[39;49m\u001b[43mkwargs\u001b[49m\u001b[43m,\u001b[49m\n\u001b[1;32m    516\u001b[0m \u001b[43m\u001b[49m\u001b[43m)\u001b[49m\n",
      "File \u001b[0;32m~/.conda/envs/t4c22/lib/python3.10/site-packages/pandas/io/parquet.py:220\u001b[0m, in \u001b[0;36mPyArrowImpl.read\u001b[0;34m(self, path, columns, use_nullable_dtypes, dtype_backend, storage_options, **kwargs)\u001b[0m\n\u001b[1;32m    217\u001b[0m \u001b[38;5;28;01mif\u001b[39;00m manager \u001b[38;5;241m==\u001b[39m \u001b[38;5;124m\"\u001b[39m\u001b[38;5;124marray\u001b[39m\u001b[38;5;124m\"\u001b[39m:\n\u001b[1;32m    218\u001b[0m     to_pandas_kwargs[\u001b[38;5;124m\"\u001b[39m\u001b[38;5;124msplit_blocks\u001b[39m\u001b[38;5;124m\"\u001b[39m] \u001b[38;5;241m=\u001b[39m \u001b[38;5;28;01mTrue\u001b[39;00m  \u001b[38;5;66;03m# type: ignore[assignment]\u001b[39;00m\n\u001b[0;32m--> 220\u001b[0m path_or_handle, handles, kwargs[\u001b[38;5;124m\"\u001b[39m\u001b[38;5;124mfilesystem\u001b[39m\u001b[38;5;124m\"\u001b[39m] \u001b[38;5;241m=\u001b[39m \u001b[43m_get_path_or_handle\u001b[49m\u001b[43m(\u001b[49m\n\u001b[1;32m    221\u001b[0m \u001b[43m    \u001b[49m\u001b[43mpath\u001b[49m\u001b[43m,\u001b[49m\n\u001b[1;32m    222\u001b[0m \u001b[43m    \u001b[49m\u001b[43mkwargs\u001b[49m\u001b[38;5;241;43m.\u001b[39;49m\u001b[43mpop\u001b[49m\u001b[43m(\u001b[49m\u001b[38;5;124;43m\"\u001b[39;49m\u001b[38;5;124;43mfilesystem\u001b[39;49m\u001b[38;5;124;43m\"\u001b[39;49m\u001b[43m,\u001b[49m\u001b[43m \u001b[49m\u001b[38;5;28;43;01mNone\u001b[39;49;00m\u001b[43m)\u001b[49m\u001b[43m,\u001b[49m\n\u001b[1;32m    223\u001b[0m \u001b[43m    \u001b[49m\u001b[43mstorage_options\u001b[49m\u001b[38;5;241;43m=\u001b[39;49m\u001b[43mstorage_options\u001b[49m\u001b[43m,\u001b[49m\n\u001b[1;32m    224\u001b[0m \u001b[43m    \u001b[49m\u001b[43mmode\u001b[49m\u001b[38;5;241;43m=\u001b[39;49m\u001b[38;5;124;43m\"\u001b[39;49m\u001b[38;5;124;43mrb\u001b[39;49m\u001b[38;5;124;43m\"\u001b[39;49m\u001b[43m,\u001b[49m\n\u001b[1;32m    225\u001b[0m \u001b[43m\u001b[49m\u001b[43m)\u001b[49m\n\u001b[1;32m    226\u001b[0m \u001b[38;5;28;01mtry\u001b[39;00m:\n\u001b[1;32m    227\u001b[0m     pa_table \u001b[38;5;241m=\u001b[39m \u001b[38;5;28mself\u001b[39m\u001b[38;5;241m.\u001b[39mapi\u001b[38;5;241m.\u001b[39mparquet\u001b[38;5;241m.\u001b[39mread_table(\n\u001b[1;32m    228\u001b[0m         path_or_handle, columns\u001b[38;5;241m=\u001b[39mcolumns, \u001b[38;5;241m*\u001b[39m\u001b[38;5;241m*\u001b[39mkwargs\n\u001b[1;32m    229\u001b[0m     )\n",
      "File \u001b[0;32m~/.conda/envs/t4c22/lib/python3.10/site-packages/pandas/io/parquet.py:110\u001b[0m, in \u001b[0;36m_get_path_or_handle\u001b[0;34m(path, fs, storage_options, mode, is_dir)\u001b[0m\n\u001b[1;32m    100\u001b[0m handles \u001b[38;5;241m=\u001b[39m \u001b[38;5;28;01mNone\u001b[39;00m\n\u001b[1;32m    101\u001b[0m \u001b[38;5;28;01mif\u001b[39;00m (\n\u001b[1;32m    102\u001b[0m     \u001b[38;5;129;01mnot\u001b[39;00m fs\n\u001b[1;32m    103\u001b[0m     \u001b[38;5;129;01mand\u001b[39;00m \u001b[38;5;129;01mnot\u001b[39;00m is_dir\n\u001b[0;32m   (...)\u001b[0m\n\u001b[1;32m    108\u001b[0m     \u001b[38;5;66;03m# fsspec resources can also point to directories\u001b[39;00m\n\u001b[1;32m    109\u001b[0m     \u001b[38;5;66;03m# this branch is used for example when reading from non-fsspec URLs\u001b[39;00m\n\u001b[0;32m--> 110\u001b[0m     handles \u001b[38;5;241m=\u001b[39m \u001b[43mget_handle\u001b[49m\u001b[43m(\u001b[49m\n\u001b[1;32m    111\u001b[0m \u001b[43m        \u001b[49m\u001b[43mpath_or_handle\u001b[49m\u001b[43m,\u001b[49m\u001b[43m \u001b[49m\u001b[43mmode\u001b[49m\u001b[43m,\u001b[49m\u001b[43m \u001b[49m\u001b[43mis_text\u001b[49m\u001b[38;5;241;43m=\u001b[39;49m\u001b[38;5;28;43;01mFalse\u001b[39;49;00m\u001b[43m,\u001b[49m\u001b[43m \u001b[49m\u001b[43mstorage_options\u001b[49m\u001b[38;5;241;43m=\u001b[39;49m\u001b[43mstorage_options\u001b[49m\n\u001b[1;32m    112\u001b[0m \u001b[43m    \u001b[49m\u001b[43m)\u001b[49m\n\u001b[1;32m    113\u001b[0m     fs \u001b[38;5;241m=\u001b[39m \u001b[38;5;28;01mNone\u001b[39;00m\n\u001b[1;32m    114\u001b[0m     path_or_handle \u001b[38;5;241m=\u001b[39m handles\u001b[38;5;241m.\u001b[39mhandle\n",
      "File \u001b[0;32m~/.conda/envs/t4c22/lib/python3.10/site-packages/pandas/io/common.py:868\u001b[0m, in \u001b[0;36mget_handle\u001b[0;34m(path_or_buf, mode, encoding, compression, memory_map, is_text, errors, storage_options)\u001b[0m\n\u001b[1;32m    859\u001b[0m         handle \u001b[38;5;241m=\u001b[39m \u001b[38;5;28mopen\u001b[39m(\n\u001b[1;32m    860\u001b[0m             handle,\n\u001b[1;32m    861\u001b[0m             ioargs\u001b[38;5;241m.\u001b[39mmode,\n\u001b[0;32m   (...)\u001b[0m\n\u001b[1;32m    864\u001b[0m             newline\u001b[38;5;241m=\u001b[39m\u001b[38;5;124m\"\u001b[39m\u001b[38;5;124m\"\u001b[39m,\n\u001b[1;32m    865\u001b[0m         )\n\u001b[1;32m    866\u001b[0m     \u001b[38;5;28;01melse\u001b[39;00m:\n\u001b[1;32m    867\u001b[0m         \u001b[38;5;66;03m# Binary mode\u001b[39;00m\n\u001b[0;32m--> 868\u001b[0m         handle \u001b[38;5;241m=\u001b[39m \u001b[38;5;28;43mopen\u001b[39;49m\u001b[43m(\u001b[49m\u001b[43mhandle\u001b[49m\u001b[43m,\u001b[49m\u001b[43m \u001b[49m\u001b[43mioargs\u001b[49m\u001b[38;5;241;43m.\u001b[39;49m\u001b[43mmode\u001b[49m\u001b[43m)\u001b[49m\n\u001b[1;32m    869\u001b[0m     handles\u001b[38;5;241m.\u001b[39mappend(handle)\n\u001b[1;32m    871\u001b[0m \u001b[38;5;66;03m# Convert BytesIO or file objects passed with an encoding\u001b[39;00m\n",
      "\u001b[0;31mFileNotFoundError\u001b[0m: [Errno 2] No such file or directory: '../../t4c22/data/road_graph/london/road_graph_edges.parquet'"
     ]
    }
   ],
   "source": [
    "def get_edge_flow(city):\n",
    "    edge_free_flows_kph = {}\n",
    "    free_flow_low = set()\n",
    "    sc_files = sorted((BASEDIR / 'speed_classes' / city ).glob('*.parquet'))\n",
    "    for i in tqdm(range(len(sc_files))):  # reading from every 5th file seems sufficient\n",
    "        sc_df = pandas.read_parquet(sc_files[i])\n",
    "        for u, v, ff in zip(sc_df[\"u\"], sc_df[\"v\"], sc_df[\"free_flow_kph\"]):\n",
    "            if ff < 8 or ff != ff:  # Check for too low or NaN values\n",
    "                free_flow_low.add((u, v))\n",
    "                continue\n",
    "            edge_free_flows_kph[(u, v)] = ff\n",
    "    print(\"free_flow_low: \",len(free_flow_low))\n",
    "    df_edge = pandas.read_parquet(BASEDIR/'road_graph'/city/'road_graph_edges.parquet')\n",
    "\n",
    "    df_edge['flow'] = df_edge['parsed_maxspeed']\n",
    "    for uv,f in tqdm(edge_free_flows_kph.items()):\n",
    "\n",
    "        df_edge.iloc[df_edge[(df_edge['u'] == uv[0]) & (df_edge['v'] == uv[1])].index,-1]= f\n",
    "    df_edge.to_parquet(BASEDIR/'road_graph'/city/'road_graph_edges.parquet', compression='snappy')\n",
    "for city in [\"london\",\"madrid\",\"melbourne\"]:\n",
    "    get_edge_flow(city)"
   ]
  },
  {
   "cell_type": "code",
   "execution_count": 9,
   "metadata": {},
   "outputs": [],
   "source": [
    "def free_flow_speed_limit(free_flow_kph, speed_limit_kph):\n",
    "    if not free_flow_kph or np.isnan(free_flow_kph) or free_flow_kph < 20:\n",
    "        free_flow_kph = 20\n",
    "    if speed_limit_kph >= 5 and free_flow_kph > speed_limit_kph:\n",
    "        free_flow_kph = speed_limit_kph\n",
    "    # Reduce free flow to max 60% but not below, e.g. 32->20, 50->30, 80->48, 110->66\n",
    "    free_flow_kph = max(free_flow_kph, speed_limit_kph * 0.6)\n",
    "    return free_flow_kph\n",
    "    \n",
    "def get_edge_limit_speed(city):\n",
    "    df_edge = pandas.read_parquet(BASEDIR/'road_graph'/city/'road_graph_edges.parquet')\n",
    "    speed_limit_kph = torch.from_numpy(np.array(df_edge[\"parsed_maxspeed\"].values,dtype=float))\n",
    "    free_flow_kph = torch.from_numpy(np.array(df_edge[\"flow\"].values,dtype=float))\n",
    "    limit_speed = []\n",
    "    for i in range(len(df_edge)):\n",
    "        speed = free_flow_speed_limit(free_flow_kph[i], speed_limit_kph[i])\n",
    "        limit_speed.append(1/speed)\n",
    "    df_edge[\"limit_speed\"] = np.array(limit_speed)\n",
    "    df_edge.to_parquet(BASEDIR/'road_graph'/city/'road_graph_edges.parquet', compression='snappy')\n",
    "for city in [\"london\",\"madrid\",\"melbourne\"]:\n",
    "    get_edge_limit_speed(city)"
   ]
  },
  {
   "cell_type": "code",
   "execution_count": 15,
   "metadata": {},
   "outputs": [],
   "source": [
    "\n",
    "def get_new_edge_index(city):\n",
    "    raw_edges = pandas.read_parquet(BASEDIR/'road_graph'/city/\"road_graph_edges.parquet\")\n",
    "    raw_nodes = pandas.read_parquet(BASEDIR/'road_graph'/city/\"road_graph_nodes.parquet\")\n",
    "\n",
    "    raw_edges[\"e_id\"] = raw_edges.index\n",
    "    raw_edges = raw_edges[['u','v','e_id']]\n",
    "    # raw_edges\n",
    "    nodes = list(raw_nodes[\"node_id\"].values)\n",
    "    new_edges = []\n",
    "    node_id_map = {}\n",
    "    for i,k in enumerate(nodes):\n",
    "        node_id_map[k] = i\n",
    "    for node in tqdm(nodes):\n",
    "        a = raw_edges[raw_edges['v'] == node]\n",
    "        if a.empty:\n",
    "            continue\n",
    "        a = a.copy().reset_index()\n",
    "        b = raw_edges[raw_edges['u'] == node]\n",
    "        if b.empty:\n",
    "            continue\n",
    "        b = b.copy().reset_index()\n",
    "        for i in range(len(a)):\n",
    "            for j in range(len(b)):\n",
    "                eu = a.iloc[i,3]\n",
    "                ev = b.iloc[j,3]\n",
    "                new_edges.append((eu,ev))\n",
    "    \n",
    "    new_edges = np.array(new_edges).T\n",
    "    \n",
    "    np.save(BASEDIR/'road_graph'/city/\"new_edge_index.npy\",new_edges)\n",
    "    print(new_edges.shape)\n",
    "    return new_edges"
   ]
  },
  {
   "cell_type": "code",
   "execution_count": null,
   "metadata": {},
   "outputs": [],
   "source": [
    "for city in [\"london\",\"madrid\",\"melbourne\"]:\n",
    "    get_new_edge_index(city)"
   ]
  },
  {
   "cell_type": "code",
   "execution_count": null,
   "metadata": {},
   "outputs": [],
   "source": []
  }
 ],
 "metadata": {
  "kernelspec": {
   "display_name": "Python 3 (ipykernel)",
   "language": "python",
   "name": "python3"
  },
  "language_info": {
   "codemirror_mode": {
    "name": "ipython",
    "version": 3
   },
   "file_extension": ".py",
   "mimetype": "text/x-python",
   "name": "python",
   "nbconvert_exporter": "python",
   "pygments_lexer": "ipython3",
   "version": "3.10.12"
  },
  "vscode": {
   "interpreter": {
    "hash": "a0185332c97191375c0c94907baba5b225abd32366a26944fb5befcbb05e864d"
   }
  }
 },
 "nbformat": 4,
 "nbformat_minor": 2
}
